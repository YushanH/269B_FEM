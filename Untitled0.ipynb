{
  "nbformat": 4,
  "nbformat_minor": 0,
  "metadata": {
    "colab": {
      "name": "Untitled0.ipynb",
      "provenance": []
    },
    "kernelspec": {
      "name": "python3",
      "display_name": "Python 3"
    }
  },
  "cells": [
    {
      "cell_type": "code",
      "metadata": {
        "id": "WtrLhgMhorQG",
        "colab_type": "code",
        "colab": {
          "base_uri": "https://localhost:8080/",
          "height": 136
        },
        "outputId": "f87d4edf-1a1f-4b57-928f-c7d4c67de691"
      },
      "source": [
        "import numpy as np\n",
        "#Programming-1\n",
        "\n",
        "# Define f, h, g\n",
        "u = lambda x,y: x**3+y**3\n",
        "f = lambda x,y: -6*x-6*y # \\laplace u = f\n",
        "h = lambda x,y: u(x,y) if y in [0,1] or x == 0 else none\n",
        "g = lambda y: 3  # u_x(1,y)\n",
        "\n",
        "\n",
        "N_list = []\n",
        "error_list = []\n",
        "n = 5\n",
        "while n < 100:\n",
        "  N_list.append(n)\n",
        "  n *= 2\n",
        "print(N_list)\n",
        "for N in N_list:\n",
        "  x_start,x_end,y_start,y_end = 0,1,0,1\n",
        "  dx = (x_end-x_start)/N\n",
        "  x = np.linspace(1/N, 1, N)\n",
        "  y = np.linspace(1/N, 1-1/N, N-1)\n",
        "  #grid_x, grid_y = np.meshgrid(x,y)\n",
        "\n",
        "  #Create matrix U, U(j*N+i) = U(x[i], y[j])\n",
        "  U = np.zeros((N*N-N, N*N-N))\n",
        "  f_vector = np.zeros(N*N-N)\n",
        "  ans = np.zeros(N*N-N)\n",
        "\n",
        "  #Fill up the entries\n",
        "  cod = lambda i,j: j*N+i\n",
        "  for i in range(0,N):\n",
        "    for j in range(0,N-1):\n",
        "      index = cod(i,j)\n",
        "      U[index, index] = 4\n",
        "      f_vector[index] += dx*dx*f(x[i], y[j])\n",
        "      ans[index] = u(x[i],x[j])\n",
        "      # consider left/right direction\n",
        "      if i == 0:\n",
        "        f_vector[index] += h(x[i]-dx, y[j]) \n",
        "        U[index, index+1] = -1\n",
        "      elif i == N-1:\n",
        "        U[index, index-1] = -2\n",
        "        f_vector[index] += 2*dx*g(y[j])\n",
        "      else:\n",
        "        U[index, index-1] = -1\n",
        "        U[index, index+1] = -1\n",
        "      # consider up/down direction\n",
        "      if j == 0:\n",
        "        U[index, index+N] = -1\n",
        "        f_vector[index] += h(x[i], y[j]-dx)\n",
        "      elif j == N-2:\n",
        "        U[index, index-N] = -1\n",
        "        f_vector[index] += h(x[i], y[j]+dx)\n",
        "      else:\n",
        "        U[index, index+N] = -1\n",
        "        U[index, index-N] = -1\n",
        "  #print(U)\n",
        "  #print(f_vector)\n",
        "  x = np.dot(np.linalg.inv(U), f_vector)\n",
        "  error = abs(ans - x)\n",
        "  # print(\"Actual Answer:\")\n",
        "  # print(ans)\n",
        "  # print(\"Numerical Answer:\")\n",
        "  # print(x)\n",
        "  print(f\"Max error = {max(error)}\")\n",
        "  error_list.append(max(error))\n",
        "print(\"We can see the order is O(dx^2)\")"
      ],
      "execution_count": 116,
      "outputs": [
        {
          "output_type": "stream",
          "text": [
            "[5, 10, 20, 40, 80]\n",
            "Max error = 0.013757497957754605\n",
            "Max error = 0.0036624452901148352\n",
            "Max error = 0.0009221621011414882\n",
            "Max error = 0.00023094004704993232\n",
            "Max error = 5.775985513167825e-05\n",
            "We can see the order is O(dx^2)\n"
          ],
          "name": "stdout"
        }
      ]
    },
    {
      "cell_type": "code",
      "metadata": {
        "id": "OTRNVRj5FZMs",
        "colab_type": "code",
        "colab": {
          "base_uri": "https://localhost:8080/",
          "height": 153
        },
        "outputId": "4ca90de0-1354-415a-bd9c-22c7c7a8621c"
      },
      "source": [
        "#Programming-2\n",
        "import scipy.integrate as integrate\n",
        "\n",
        "#-u_xx = sin(2pi*x)\n",
        "f = lambda x: np.sin(2*np.pi*x)\n",
        "u = lambda x: 1/(2*np.pi)**2*np.sin(2*np.pi*x)\n",
        "x_start, x_end = 0,1\n",
        "u_start, u_end = 0, 0\n",
        "N_list = [5,10,20,40,80,160,320]\n",
        "error_list = []\n",
        "dx_list = []\n",
        "def interp(i,x, x_list,dx, N):\n",
        "  xi = x_list[i]\n",
        "  if xi-dx <= x <= xi:\n",
        "    return (x-xi+dx)/dx\n",
        "  elif xi <= x <= xi+dx:\n",
        "    return (xi+dx-x)/dx\n",
        "  else:\n",
        "    return 0\n",
        "\n",
        "for N in N_list:\n",
        "  dx = 1/N\n",
        "  dx_list.append(dx)\n",
        "  #First method\n",
        "  A = np.zeros((N-1,N-1))\n",
        "  x_list = np.linspace(1/N, 1-1/N, N-1)\n",
        "  sol = u(x_list)\n",
        "  f_vector = f(x_list)*dx*dx\n",
        "  f2_vector = np.zeros(N-1)\n",
        "  for i in range(N-1):\n",
        "    f2_vector[i] = dx*integrate.quad(lambda x: f(x)*interp(i,x,x_list,dx,N), 0, 1)[0]\n",
        "    A[i,i] = 2\n",
        "    if i != 0:\n",
        "      A[i,i-1] = -1\n",
        "    else:\n",
        "      f_vector[i] += u_start\n",
        "    if i != N-2:\n",
        "      A[i,i+1] = -1\n",
        "    else:\n",
        "      f_vector[i] += u_end\n",
        "  result = np.dot(np.linalg.pinv(A), f_vector)\n",
        "  result2 = np.dot(np.linalg.pinv(A), f2_vector)\n",
        "  error = max(sol-result)\n",
        "  error2 = max(sol-result2)\n",
        "  print(f\"N = {N}, error1 = {error}, error2 = {error2}\")\n",
        "  error_list.append(error)\n"
      ],
      "execution_count": 117,
      "outputs": [
        {
          "output_type": "stream",
          "text": [
            "N = 5, error1 = 0.003437095423977656, error2 = 4.125866315263238e-14\n",
            "N = 10, error1 = 0.0008084398633820301, error2 = 1.4155343563970746e-15\n",
            "N = 20, error1 = 0.00020936545757893957, error2 = 1.1240109537569154e-11\n",
            "N = 40, error1 = 5.2147651539349166e-05, error2 = 0.006330708542933772\n"
          ],
          "name": "stdout"
        },
        {
          "output_type": "stream",
          "text": [
            "/usr/local/lib/python3.6/dist-packages/ipykernel_launcher.py:30: IntegrationWarning: The integral is probably divergent, or slowly convergent.\n"
          ],
          "name": "stderr"
        },
        {
          "output_type": "stream",
          "text": [
            "N = 80, error1 = 1.3024850269161004e-05, error2 = 0.016289477724031217\n",
            "N = 160, error1 = 3.255459348091433e-06, error2 = 0.021778504088568042\n",
            "N = 320, error1 = 8.138177886550524e-07, error2 = 0.025227015017681688\n"
          ],
          "name": "stdout"
        }
      ]
    },
    {
      "cell_type": "code",
      "metadata": {
        "id": "tu_q3wJRcPkW",
        "colab_type": "code",
        "colab": {
          "base_uri": "https://localhost:8080/",
          "height": 282
        },
        "outputId": "024a2087-8375-4e4d-83b4-f77804b25471"
      },
      "source": [
        "import matplotlib.pyplot as plt\n",
        "plt.plot(np.log(dx_list), np.log(error_list))\n",
        "print(\"The slop of loglog plot is approximately 2, implying that error = O(dx^2)\")"
      ],
      "execution_count": 118,
      "outputs": [
        {
          "output_type": "stream",
          "text": [
            "The slop of loglog plot is approximately 2, implying that error = O(dx^2)\n"
          ],
          "name": "stdout"
        },
        {
          "output_type": "display_data",
          "data": {
            "image/png": "[encoded data removed]",
            "text/plain": [
              "<Figure size 432x288 with 1 Axes>"
            ]
          },
          "metadata": {
            "tags": []
          }
        }
      ]
    }
  ]
}